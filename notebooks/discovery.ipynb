{
 "cells": [
  {
   "cell_type": "code",
   "execution_count": 1,
   "id": "initial_id",
   "metadata": {
    "collapsed": true,
    "ExecuteTime": {
     "end_time": "2025-04-07T10:22:58.537626Z",
     "start_time": "2025-04-07T10:22:55.365073Z"
    }
   },
   "outputs": [],
   "source": [
    "import pandas as pd"
   ]
  },
  {
   "cell_type": "code",
   "outputs": [],
   "source": [
    "exams = pd.read_csv(r'..\\data\\code15\\input\\exams.csv')"
   ],
   "metadata": {
    "collapsed": false,
    "ExecuteTime": {
     "end_time": "2025-04-07T10:22:59.072199Z",
     "start_time": "2025-04-07T10:22:58.540149Z"
    }
   },
   "id": "66e16be079eba62e",
   "execution_count": 2
  },
  {
   "cell_type": "code",
   "outputs": [
    {
     "data": {
      "text/plain": "            exam_id            age  nn_predicted_age    patient_id  \\\ncount  3.457790e+05  345779.000000     345779.000000  3.457790e+05   \nmean   1.501461e+06      53.240495         54.099963  7.979436e+05   \nstd    1.106044e+06      19.695125         18.534262  5.494589e+05   \nmin    1.300000e+01      17.000000        -40.220116  1.000000e+00   \n25%    6.332210e+05      37.000000         37.756269  2.653085e+05   \n50%    1.261788e+06      54.000000         55.402687  7.741560e+05   \n75%    1.997469e+06      70.000000         69.619270  1.283160e+06   \nmax    4.416614e+06     100.000000        106.895454  1.773689e+06   \n\n               timey  \ncount  233647.000000  \nmean        3.676905  \nstd         1.874012  \nmin         0.000000  \n25%         2.104108  \n50%         3.457531  \n75%         5.208215  \nmax         7.676706  ",
      "text/html": "<div>\n<style scoped>\n    .dataframe tbody tr th:only-of-type {\n        vertical-align: middle;\n    }\n\n    .dataframe tbody tr th {\n        vertical-align: top;\n    }\n\n    .dataframe thead th {\n        text-align: right;\n    }\n</style>\n<table border=\"1\" class=\"dataframe\">\n  <thead>\n    <tr style=\"text-align: right;\">\n      <th></th>\n      <th>exam_id</th>\n      <th>age</th>\n      <th>nn_predicted_age</th>\n      <th>patient_id</th>\n      <th>timey</th>\n    </tr>\n  </thead>\n  <tbody>\n    <tr>\n      <th>count</th>\n      <td>3.457790e+05</td>\n      <td>345779.000000</td>\n      <td>345779.000000</td>\n      <td>3.457790e+05</td>\n      <td>233647.000000</td>\n    </tr>\n    <tr>\n      <th>mean</th>\n      <td>1.501461e+06</td>\n      <td>53.240495</td>\n      <td>54.099963</td>\n      <td>7.979436e+05</td>\n      <td>3.676905</td>\n    </tr>\n    <tr>\n      <th>std</th>\n      <td>1.106044e+06</td>\n      <td>19.695125</td>\n      <td>18.534262</td>\n      <td>5.494589e+05</td>\n      <td>1.874012</td>\n    </tr>\n    <tr>\n      <th>min</th>\n      <td>1.300000e+01</td>\n      <td>17.000000</td>\n      <td>-40.220116</td>\n      <td>1.000000e+00</td>\n      <td>0.000000</td>\n    </tr>\n    <tr>\n      <th>25%</th>\n      <td>6.332210e+05</td>\n      <td>37.000000</td>\n      <td>37.756269</td>\n      <td>2.653085e+05</td>\n      <td>2.104108</td>\n    </tr>\n    <tr>\n      <th>50%</th>\n      <td>1.261788e+06</td>\n      <td>54.000000</td>\n      <td>55.402687</td>\n      <td>7.741560e+05</td>\n      <td>3.457531</td>\n    </tr>\n    <tr>\n      <th>75%</th>\n      <td>1.997469e+06</td>\n      <td>70.000000</td>\n      <td>69.619270</td>\n      <td>1.283160e+06</td>\n      <td>5.208215</td>\n    </tr>\n    <tr>\n      <th>max</th>\n      <td>4.416614e+06</td>\n      <td>100.000000</td>\n      <td>106.895454</td>\n      <td>1.773689e+06</td>\n      <td>7.676706</td>\n    </tr>\n  </tbody>\n</table>\n</div>"
     },
     "execution_count": 3,
     "metadata": {},
     "output_type": "execute_result"
    }
   ],
   "source": [
    "exams.describe()"
   ],
   "metadata": {
    "collapsed": false,
    "ExecuteTime": {
     "end_time": "2025-04-07T10:22:59.216219Z",
     "start_time": "2025-04-07T10:22:59.073714Z"
    }
   },
   "id": "165c4cd18f1de28f",
   "execution_count": 3
  },
  {
   "cell_type": "code",
   "outputs": [],
   "source": [
    "exams = exams[exams['trace_file'] == 'exams_part0.hdf5']"
   ],
   "metadata": {
    "collapsed": false,
    "ExecuteTime": {
     "end_time": "2025-04-07T10:22:59.258882Z",
     "start_time": "2025-04-07T10:22:59.218300Z"
    }
   },
   "id": "d019d160fb0a0b48",
   "execution_count": 4
  },
  {
   "cell_type": "code",
   "outputs": [
    {
     "data": {
      "text/plain": "20000"
     },
     "execution_count": 5,
     "metadata": {},
     "output_type": "execute_result"
    }
   ],
   "source": [
    "len(exams)"
   ],
   "metadata": {
    "collapsed": false,
    "ExecuteTime": {
     "end_time": "2025-04-07T10:22:59.268945Z",
     "start_time": "2025-04-07T10:22:59.261891Z"
    }
   },
   "id": "8c809bf2b8d4b489",
   "execution_count": 5
  },
  {
   "cell_type": "code",
   "outputs": [],
   "source": [
    "labels = pd.read_csv(r'..\\data\\code15\\input\\code15_chagas_labels.csv') "
   ],
   "metadata": {
    "collapsed": false,
    "ExecuteTime": {
     "end_time": "2025-04-07T10:22:59.417318Z",
     "start_time": "2025-04-07T10:22:59.270443Z"
    }
   },
   "id": "1ed47f4e20ed8853",
   "execution_count": 6
  },
  {
   "cell_type": "code",
   "outputs": [
    {
     "data": {
      "text/plain": "   exam_id  patient_id  chagas\n0   418484       41150   False\n1  3079871      155545   False\n2  3071349     1309175   False\n3  3070812     1312063   False\n4   440411      649720   False",
      "text/html": "<div>\n<style scoped>\n    .dataframe tbody tr th:only-of-type {\n        vertical-align: middle;\n    }\n\n    .dataframe tbody tr th {\n        vertical-align: top;\n    }\n\n    .dataframe thead th {\n        text-align: right;\n    }\n</style>\n<table border=\"1\" class=\"dataframe\">\n  <thead>\n    <tr style=\"text-align: right;\">\n      <th></th>\n      <th>exam_id</th>\n      <th>patient_id</th>\n      <th>chagas</th>\n    </tr>\n  </thead>\n  <tbody>\n    <tr>\n      <th>0</th>\n      <td>418484</td>\n      <td>41150</td>\n      <td>False</td>\n    </tr>\n    <tr>\n      <th>1</th>\n      <td>3079871</td>\n      <td>155545</td>\n      <td>False</td>\n    </tr>\n    <tr>\n      <th>2</th>\n      <td>3071349</td>\n      <td>1309175</td>\n      <td>False</td>\n    </tr>\n    <tr>\n      <th>3</th>\n      <td>3070812</td>\n      <td>1312063</td>\n      <td>False</td>\n    </tr>\n    <tr>\n      <th>4</th>\n      <td>440411</td>\n      <td>649720</td>\n      <td>False</td>\n    </tr>\n  </tbody>\n</table>\n</div>"
     },
     "execution_count": 7,
     "metadata": {},
     "output_type": "execute_result"
    }
   ],
   "source": [
    "labels.head()"
   ],
   "metadata": {
    "collapsed": false,
    "ExecuteTime": {
     "end_time": "2025-04-07T10:22:59.431387Z",
     "start_time": "2025-04-07T10:22:59.418777Z"
    }
   },
   "id": "daa0732ace357c1b",
   "execution_count": 7
  },
  {
   "cell_type": "code",
   "outputs": [],
   "source": [
    "merged = pd.merge(exams, labels, on='exam_id')"
   ],
   "metadata": {
    "collapsed": false,
    "ExecuteTime": {
     "end_time": "2025-04-07T10:22:59.505412Z",
     "start_time": "2025-04-07T10:22:59.433892Z"
    }
   },
   "id": "1cb49c003935924a",
   "execution_count": 8
  },
  {
   "cell_type": "code",
   "outputs": [
    {
     "data": {
      "text/plain": "       exam_id  age  is_male  nn_predicted_age  1dAVb   RBBB   LBBB     SB  \\\n60     2853920   76    False         82.674030  False  False  False  False   \n69       54474   51     True         64.503730  False  False   True  False   \n86     3631492   59    False         51.174137  False  False  False  False   \n92      434158   75     True         66.997800  False  False  False  False   \n170     360314   86     True         76.174100  False  False  False  False   \n...        ...  ...      ...               ...    ...    ...    ...    ...   \n19711  2926529   76    False         71.315200  False   True  False  False   \n19730   782629   19     True         28.679802  False  False  False  False   \n19792  2795505   58    False         78.111670  False  False  False  False   \n19890   706073   75    False         86.690390  False  False  False  False   \n19934  1133183   46    False         61.897950  False  False  False  False   \n\n          ST     AF  patient_id_x  death     timey  normal_ecg  \\\n60     False  False        173792    NaN       NaN       False   \n69     False  False        148525  False  4.556161       False   \n86     False  False        949656  False  5.375338       False   \n92     False  False         15504    NaN       NaN       False   \n170    False   True        145135    NaN       NaN       False   \n...      ...    ...           ...    ...       ...         ...   \n19711  False   True        148526    NaN       NaN       False   \n19730  False  False        448405  False  2.923285        True   \n19792  False  False       1387497  False  6.887666       False   \n19890  False  False        162941    NaN       NaN       False   \n19934  False  False        161647    NaN       NaN        True   \n\n             trace_file  patient_id_y  chagas  \n60     exams_part0.hdf5        173792    True  \n69     exams_part0.hdf5        148525    True  \n86     exams_part0.hdf5        949656    True  \n92     exams_part0.hdf5         15504    True  \n170    exams_part0.hdf5        145135    True  \n...                 ...           ...     ...  \n19711  exams_part0.hdf5        148526    True  \n19730  exams_part0.hdf5        448405    True  \n19792  exams_part0.hdf5       1387497    True  \n19890  exams_part0.hdf5        162941    True  \n19934  exams_part0.hdf5        161647    True  \n\n[403 rows x 17 columns]",
      "text/html": "<div>\n<style scoped>\n    .dataframe tbody tr th:only-of-type {\n        vertical-align: middle;\n    }\n\n    .dataframe tbody tr th {\n        vertical-align: top;\n    }\n\n    .dataframe thead th {\n        text-align: right;\n    }\n</style>\n<table border=\"1\" class=\"dataframe\">\n  <thead>\n    <tr style=\"text-align: right;\">\n      <th></th>\n      <th>exam_id</th>\n      <th>age</th>\n      <th>is_male</th>\n      <th>nn_predicted_age</th>\n      <th>1dAVb</th>\n      <th>RBBB</th>\n      <th>LBBB</th>\n      <th>SB</th>\n      <th>ST</th>\n      <th>AF</th>\n      <th>patient_id_x</th>\n      <th>death</th>\n      <th>timey</th>\n      <th>normal_ecg</th>\n      <th>trace_file</th>\n      <th>patient_id_y</th>\n      <th>chagas</th>\n    </tr>\n  </thead>\n  <tbody>\n    <tr>\n      <th>60</th>\n      <td>2853920</td>\n      <td>76</td>\n      <td>False</td>\n      <td>82.674030</td>\n      <td>False</td>\n      <td>False</td>\n      <td>False</td>\n      <td>False</td>\n      <td>False</td>\n      <td>False</td>\n      <td>173792</td>\n      <td>NaN</td>\n      <td>NaN</td>\n      <td>False</td>\n      <td>exams_part0.hdf5</td>\n      <td>173792</td>\n      <td>True</td>\n    </tr>\n    <tr>\n      <th>69</th>\n      <td>54474</td>\n      <td>51</td>\n      <td>True</td>\n      <td>64.503730</td>\n      <td>False</td>\n      <td>False</td>\n      <td>True</td>\n      <td>False</td>\n      <td>False</td>\n      <td>False</td>\n      <td>148525</td>\n      <td>False</td>\n      <td>4.556161</td>\n      <td>False</td>\n      <td>exams_part0.hdf5</td>\n      <td>148525</td>\n      <td>True</td>\n    </tr>\n    <tr>\n      <th>86</th>\n      <td>3631492</td>\n      <td>59</td>\n      <td>False</td>\n      <td>51.174137</td>\n      <td>False</td>\n      <td>False</td>\n      <td>False</td>\n      <td>False</td>\n      <td>False</td>\n      <td>False</td>\n      <td>949656</td>\n      <td>False</td>\n      <td>5.375338</td>\n      <td>False</td>\n      <td>exams_part0.hdf5</td>\n      <td>949656</td>\n      <td>True</td>\n    </tr>\n    <tr>\n      <th>92</th>\n      <td>434158</td>\n      <td>75</td>\n      <td>True</td>\n      <td>66.997800</td>\n      <td>False</td>\n      <td>False</td>\n      <td>False</td>\n      <td>False</td>\n      <td>False</td>\n      <td>False</td>\n      <td>15504</td>\n      <td>NaN</td>\n      <td>NaN</td>\n      <td>False</td>\n      <td>exams_part0.hdf5</td>\n      <td>15504</td>\n      <td>True</td>\n    </tr>\n    <tr>\n      <th>170</th>\n      <td>360314</td>\n      <td>86</td>\n      <td>True</td>\n      <td>76.174100</td>\n      <td>False</td>\n      <td>False</td>\n      <td>False</td>\n      <td>False</td>\n      <td>False</td>\n      <td>True</td>\n      <td>145135</td>\n      <td>NaN</td>\n      <td>NaN</td>\n      <td>False</td>\n      <td>exams_part0.hdf5</td>\n      <td>145135</td>\n      <td>True</td>\n    </tr>\n    <tr>\n      <th>...</th>\n      <td>...</td>\n      <td>...</td>\n      <td>...</td>\n      <td>...</td>\n      <td>...</td>\n      <td>...</td>\n      <td>...</td>\n      <td>...</td>\n      <td>...</td>\n      <td>...</td>\n      <td>...</td>\n      <td>...</td>\n      <td>...</td>\n      <td>...</td>\n      <td>...</td>\n      <td>...</td>\n      <td>...</td>\n    </tr>\n    <tr>\n      <th>19711</th>\n      <td>2926529</td>\n      <td>76</td>\n      <td>False</td>\n      <td>71.315200</td>\n      <td>False</td>\n      <td>True</td>\n      <td>False</td>\n      <td>False</td>\n      <td>False</td>\n      <td>True</td>\n      <td>148526</td>\n      <td>NaN</td>\n      <td>NaN</td>\n      <td>False</td>\n      <td>exams_part0.hdf5</td>\n      <td>148526</td>\n      <td>True</td>\n    </tr>\n    <tr>\n      <th>19730</th>\n      <td>782629</td>\n      <td>19</td>\n      <td>True</td>\n      <td>28.679802</td>\n      <td>False</td>\n      <td>False</td>\n      <td>False</td>\n      <td>False</td>\n      <td>False</td>\n      <td>False</td>\n      <td>448405</td>\n      <td>False</td>\n      <td>2.923285</td>\n      <td>True</td>\n      <td>exams_part0.hdf5</td>\n      <td>448405</td>\n      <td>True</td>\n    </tr>\n    <tr>\n      <th>19792</th>\n      <td>2795505</td>\n      <td>58</td>\n      <td>False</td>\n      <td>78.111670</td>\n      <td>False</td>\n      <td>False</td>\n      <td>False</td>\n      <td>False</td>\n      <td>False</td>\n      <td>False</td>\n      <td>1387497</td>\n      <td>False</td>\n      <td>6.887666</td>\n      <td>False</td>\n      <td>exams_part0.hdf5</td>\n      <td>1387497</td>\n      <td>True</td>\n    </tr>\n    <tr>\n      <th>19890</th>\n      <td>706073</td>\n      <td>75</td>\n      <td>False</td>\n      <td>86.690390</td>\n      <td>False</td>\n      <td>False</td>\n      <td>False</td>\n      <td>False</td>\n      <td>False</td>\n      <td>False</td>\n      <td>162941</td>\n      <td>NaN</td>\n      <td>NaN</td>\n      <td>False</td>\n      <td>exams_part0.hdf5</td>\n      <td>162941</td>\n      <td>True</td>\n    </tr>\n    <tr>\n      <th>19934</th>\n      <td>1133183</td>\n      <td>46</td>\n      <td>False</td>\n      <td>61.897950</td>\n      <td>False</td>\n      <td>False</td>\n      <td>False</td>\n      <td>False</td>\n      <td>False</td>\n      <td>False</td>\n      <td>161647</td>\n      <td>NaN</td>\n      <td>NaN</td>\n      <td>True</td>\n      <td>exams_part0.hdf5</td>\n      <td>161647</td>\n      <td>True</td>\n    </tr>\n  </tbody>\n</table>\n<p>403 rows × 17 columns</p>\n</div>"
     },
     "execution_count": 9,
     "metadata": {},
     "output_type": "execute_result"
    }
   ],
   "source": [
    "merged[merged['chagas'] == True]"
   ],
   "metadata": {
    "collapsed": false,
    "ExecuteTime": {
     "end_time": "2025-04-07T10:22:59.532833Z",
     "start_time": "2025-04-07T10:22:59.507436Z"
    }
   },
   "id": "9d5d5c169b3aed0d",
   "execution_count": 9
  },
  {
   "cell_type": "code",
   "outputs": [],
   "source": [],
   "metadata": {
    "collapsed": false,
    "ExecuteTime": {
     "end_time": "2025-04-07T10:22:59.539810Z",
     "start_time": "2025-04-07T10:22:59.535365Z"
    }
   },
   "id": "2362366a7fc353a1",
   "execution_count": 9
  }
 ],
 "metadata": {
  "kernelspec": {
   "display_name": "Python 3",
   "language": "python",
   "name": "python3"
  },
  "language_info": {
   "codemirror_mode": {
    "name": "ipython",
    "version": 2
   },
   "file_extension": ".py",
   "mimetype": "text/x-python",
   "name": "python",
   "nbconvert_exporter": "python",
   "pygments_lexer": "ipython2",
   "version": "2.7.6"
  }
 },
 "nbformat": 4,
 "nbformat_minor": 5
}
